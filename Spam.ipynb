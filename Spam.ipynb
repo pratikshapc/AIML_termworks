{
 "metadata": {
  "language_info": {
   "codemirror_mode": {
    "name": "ipython",
    "version": 3
   },
   "file_extension": ".py",
   "mimetype": "text/x-python",
   "name": "python",
   "nbconvert_exporter": "python",
   "pygments_lexer": "ipython3",
   "version": "3.8.5"
  },
  "orig_nbformat": 2,
  "kernelspec": {
   "name": "python3",
   "display_name": "Python 3",
   "language": "python"
  }
 },
 "nbformat": 4,
 "nbformat_minor": 2,
 "cells": [
  {
   "cell_type": "code",
   "execution_count": 28,
   "metadata": {},
   "outputs": [
    {
     "output_type": "stream",
     "name": "stderr",
     "text": [
      "/home/omkar/.local/lib/python3.8/site-packages/IPython/core/interactiveshell.py:3146: DtypeWarning: Columns (22,24,25,26,29,30,31,32,33,34,46,47,48,49,50,51,52,53,54) have mixed types.Specify dtype option on import or set low_memory=False.\n  has_raised = await self.run_ast_nodes(code_ast.body, cell_name,\n"
     ]
    }
   ],
   "source": [
    "import pandas as pd\n",
    "\n",
    "#Import datasets and join the 2 data with Unique id\n",
    "data1= pd.read_csv(\"click_log.csv\")\n",
    "data2= pd.read_csv(\"Training Data.csv\")\n",
    "data3= pd.read_csv(\"Test Data.csv\")\n",
    "data_merge= pd.merge(data2, data1, left_on='imprid_cr', right_on ='imprId', how='left')\n",
    "data_merge2=pd.merge(data3, data1, left_on='imprid_cr', right_on ='imprId', how='left')"
   ]
  },
  {
   "cell_type": "code",
   "execution_count": 29,
   "metadata": {},
   "outputs": [],
   "source": [
    "#Necessary columns from the data in training dataset\n",
    "columns=['clientid_cr', 'pubclientid_cr', 'clickIp', 'clmbuserid_cr', 'imprid_cr', 'siteId_cr', 'goalTypeId_cr', 'cityId_cr', 'stateId_cr', 'countryDimId_cr' ,'browserId_cr', 'adslotdimid_cr','crtd', 'itemcolumbiaid_cr', 'ispDimId_cr','devTypeDimId', 'osVerDimId_cr' ,'conversion_fraud']\n",
    "for i in data_merge.columns:\n",
    "    if i not in columns:\n",
    "        data_merge.drop(i, axis=1,inplace=True)\n",
    "        "
   ]
  },
  {
   "cell_type": "code",
   "execution_count": 30,
   "metadata": {},
   "outputs": [
    {
     "output_type": "stream",
     "name": "stdout",
     "text": [
      "2\n2\n2\n2\n2\n2\n2\n2\n2\n2\n2\n2\n2\n4\n2\n2\n3\n2\n2\n2\n2\n3\n2\n2\n2\n2\n2\n2\n2\n2\n"
     ]
    }
   ],
   "source": [
    "sum= data_merge2.pivot_table(index = ['record_id'], aggfunc ='size')\n",
    "for i in sum:\n",
    "    if i>1:\n",
    "        print(i)"
   ]
  },
  {
   "cell_type": "code",
   "execution_count": 31,
   "metadata": {},
   "outputs": [],
   "source": [
    "#Necessary columns from the data in testing dataset\n",
    "columns=['record_id', 'clientid_cr', 'pubclientid_cr', 'clickIp', 'clmbuserid_cr', 'imprid_cr', 'siteId_cr', 'goalTypeId_cr', 'cityId_cr', 'stateId_cr', 'countryDimId_cr' ,'browserId_cr', 'adslotdimid_cr','crtd', 'itemcolumbiaid_cr', 'ispDimId_cr','devTypeDimId', 'osVerDimId_cr' ,'conversion_fraud']\n",
    "data_merge2.drop_duplicates(subset=[\"record_id\"], keep= \"first\" ,inplace = True)\n",
    "Records=data_merge2[\"record_id\"]\n",
    "data_merge2.drop('record_id',\n",
    "  axis=1, inplace=True)\n",
    "for i in data_merge2.columns:\n",
    "    if i not in columns:\n",
    "        data_merge2.drop(i, axis=1,inplace=True)"
   ]
  },
  {
   "cell_type": "code",
   "execution_count": 32,
   "metadata": {},
   "outputs": [],
   "source": [
    "data_merge=data_merge[['clientid_cr', 'pubclientid_cr', 'clickIp', 'clmbuserid_cr', 'imprid_cr', 'siteId_cr', 'goalTypeId_cr', 'cityId_cr', 'stateId_cr', 'countryDimId_cr' ,'browserId_cr', 'adslotdimid_cr','crtd', 'itemcolumbiaid_cr', 'ispDimId_cr','devTypeDimId', 'osVerDimId_cr' ,'conversion_fraud']]\n",
    "data_merge2=data_merge2[['clientid_cr', 'pubclientid_cr', 'clickIp', 'clmbuserid_cr', 'imprid_cr', 'siteId_cr', 'goalTypeId_cr', 'cityId_cr', 'stateId_cr', 'countryDimId_cr' ,'browserId_cr', 'adslotdimid_cr','crtd', 'itemcolumbiaid_cr', 'ispDimId_cr','devTypeDimId', 'osVerDimId_cr']]"
   ]
  },
  {
   "cell_type": "code",
   "execution_count": 33,
   "metadata": {},
   "outputs": [
    {
     "output_type": "stream",
     "name": "stdout",
     "text": [
      "Index(['clientid_cr', 'pubclientid_cr', 'clickIp', 'clmbuserid_cr',\n       'imprid_cr', 'siteId_cr', 'goalTypeId_cr', 'cityId_cr', 'stateId_cr',\n       'countryDimId_cr', 'browserId_cr', 'adslotdimid_cr', 'crtd',\n       'itemcolumbiaid_cr', 'ispDimId_cr', 'devTypeDimId', 'osVerDimId_cr',\n       'conversion_fraud'],\n      dtype='object')\nIndex(['clientid_cr', 'pubclientid_cr', 'clickIp', 'clmbuserid_cr',\n       'imprid_cr', 'siteId_cr', 'goalTypeId_cr', 'cityId_cr', 'stateId_cr',\n       'countryDimId_cr', 'browserId_cr', 'adslotdimid_cr', 'crtd',\n       'itemcolumbiaid_cr', 'ispDimId_cr', 'devTypeDimId', 'osVerDimId_cr'],\n      dtype='object')\n"
     ]
    }
   ],
   "source": [
    "print(data_merge.columns)\n",
    "print(data_merge2.columns)"
   ]
  },
  {
   "cell_type": "code",
   "execution_count": 34,
   "metadata": {},
   "outputs": [
    {
     "output_type": "execute_result",
     "data": {
      "text/plain": [
       "clientid_cr            0\n",
       "pubclientid_cr         0\n",
       "clickIp              234\n",
       "clmbuserid_cr          0\n",
       "imprid_cr              0\n",
       "siteId_cr              0\n",
       "goalTypeId_cr          0\n",
       "cityId_cr             20\n",
       "stateId_cr            20\n",
       "countryDimId_cr       20\n",
       "browserId_cr          21\n",
       "adslotdimid_cr         0\n",
       "crtd                 150\n",
       "itemcolumbiaid_cr      0\n",
       "ispDimId_cr           20\n",
       "devTypeDimId         216\n",
       "osVerDimId_cr         21\n",
       "conversion_fraud       0\n",
       "dtype: int64"
      ]
     },
     "metadata": {},
     "execution_count": 34
    }
   ],
   "source": [
    "data_merge.isnull().sum()"
   ]
  },
  {
   "cell_type": "code",
   "execution_count": 35,
   "metadata": {},
   "outputs": [
    {
     "output_type": "execute_result",
     "data": {
      "text/plain": [
       "clientid_cr            0\n",
       "pubclientid_cr         0\n",
       "clickIp              122\n",
       "clmbuserid_cr          0\n",
       "imprid_cr              0\n",
       "siteId_cr              0\n",
       "goalTypeId_cr          0\n",
       "cityId_cr              0\n",
       "stateId_cr             0\n",
       "countryDimId_cr        0\n",
       "browserId_cr           0\n",
       "adslotdimid_cr         0\n",
       "crtd                  82\n",
       "itemcolumbiaid_cr      0\n",
       "ispDimId_cr            0\n",
       "devTypeDimId         108\n",
       "osVerDimId_cr          0\n",
       "dtype: int64"
      ]
     },
     "metadata": {},
     "execution_count": 35
    }
   ],
   "source": [
    "data_merge2.isnull().sum()"
   ]
  },
  {
   "cell_type": "code",
   "execution_count": 36,
   "metadata": {},
   "outputs": [
    {
     "output_type": "execute_result",
     "data": {
      "text/plain": [
       "clientid_cr            int64\n",
       "pubclientid_cr         int64\n",
       "clickIp               object\n",
       "clmbuserid_cr         object\n",
       "imprid_cr             object\n",
       "siteId_cr              int64\n",
       "goalTypeId_cr          int64\n",
       "cityId_cr            float64\n",
       "stateId_cr           float64\n",
       "countryDimId_cr      float64\n",
       "browserId_cr         float64\n",
       "adslotdimid_cr         int64\n",
       "crtd                 float64\n",
       "itemcolumbiaid_cr      int64\n",
       "ispDimId_cr          float64\n",
       "devTypeDimId         float64\n",
       "osVerDimId_cr        float64\n",
       "conversion_fraud        bool\n",
       "dtype: object"
      ]
     },
     "metadata": {},
     "execution_count": 36
    }
   ],
   "source": [
    "data_merge.dtypes"
   ]
  },
  {
   "cell_type": "code",
   "execution_count": 37,
   "metadata": {},
   "outputs": [],
   "source": [
    "#removing Nan values from the columns and replace with 0\n",
    "remove_null=[\"cityId_cr\", \"stateId_cr\",\"crtd\", \"countryDimId_cr\",\"browserId_cr\", \"ispDimId_cr\",\"osVerDimId_cr\", \"devTypeDimId\"]\n",
    "\n",
    "\n",
    "for i in remove_null:\n",
    "    data_merge[i].fillna((data_merge[i].mean()), inplace=True)\n",
    "    data_merge[i].astype(int)\n",
    "    data_merge2[i].fillna((data_merge2[i].mean()), inplace=True)\n",
    "    data_merge2[i].astype(int)"
   ]
  },
  {
   "cell_type": "code",
   "execution_count": 38,
   "metadata": {},
   "outputs": [
    {
     "output_type": "execute_result",
     "data": {
      "text/plain": [
       "clientid_cr            0\n",
       "pubclientid_cr         0\n",
       "clickIp              234\n",
       "clmbuserid_cr          0\n",
       "imprid_cr              0\n",
       "siteId_cr              0\n",
       "goalTypeId_cr          0\n",
       "cityId_cr              0\n",
       "stateId_cr             0\n",
       "countryDimId_cr        0\n",
       "browserId_cr           0\n",
       "adslotdimid_cr         0\n",
       "crtd                   0\n",
       "itemcolumbiaid_cr      0\n",
       "ispDimId_cr            0\n",
       "devTypeDimId           0\n",
       "osVerDimId_cr          0\n",
       "conversion_fraud       0\n",
       "dtype: int64"
      ]
     },
     "metadata": {},
     "execution_count": 38
    }
   ],
   "source": [
    "data_merge.isnull().sum()"
   ]
  },
  {
   "cell_type": "code",
   "execution_count": 39,
   "metadata": {},
   "outputs": [
    {
     "output_type": "execute_result",
     "data": {
      "text/plain": [
       "clientid_cr            0\n",
       "pubclientid_cr         0\n",
       "clickIp              122\n",
       "clmbuserid_cr          0\n",
       "imprid_cr              0\n",
       "siteId_cr              0\n",
       "goalTypeId_cr          0\n",
       "cityId_cr              0\n",
       "stateId_cr             0\n",
       "countryDimId_cr        0\n",
       "browserId_cr           0\n",
       "adslotdimid_cr         0\n",
       "crtd                   0\n",
       "itemcolumbiaid_cr      0\n",
       "ispDimId_cr            0\n",
       "devTypeDimId           0\n",
       "osVerDimId_cr          0\n",
       "dtype: int64"
      ]
     },
     "metadata": {},
     "execution_count": 39
    }
   ],
   "source": [
    "data_merge2.isnull().sum()"
   ]
  },
  {
   "cell_type": "code",
   "execution_count": 40,
   "metadata": {},
   "outputs": [],
   "source": [
    "data_merge[\"clickIp\"]= data_merge[\"clickIp\"].astype(str)\n",
    "data_merge2[\"clickIp\"]= data_merge[\"clickIp\"].astype(str)"
   ]
  },
  {
   "cell_type": "code",
   "execution_count": 41,
   "metadata": {},
   "outputs": [],
   "source": [
    "#splitting dataset for training model\n",
    "X = data_merge.drop(columns='conversion_fraud')\n",
    "y= data_merge[\"conversion_fraud\"]\n"
   ]
  },
  {
   "cell_type": "code",
   "execution_count": 42,
   "metadata": {},
   "outputs": [],
   "source": [
    "from sklearn.model_selection import train_test_split\n",
    "from sklearn import svm\n",
    "from sklearn.preprocessing import OneHotEncoder\n",
    "from sklearn.compose import make_column_transformer\n",
    "from sklearn.pipeline import make_pipeline\n",
    "X_train , X_test, Y_train, Y_test=train_test_split(X, y, test_size=0.2, random_state=15)"
   ]
  },
  {
   "cell_type": "code",
   "execution_count": 43,
   "metadata": {},
   "outputs": [],
   "source": [
    "#one hot encoder to deal with categorcal type data. It converts the unique data into one hot vector making easy for machine to analyse data.\n",
    "one= OneHotEncoder()\n",
    "one.fit(X[['clientid_cr', 'pubclientid_cr', 'clickIp', 'clmbuserid_cr', 'imprid_cr', 'siteId_cr', 'goalTypeId_cr', 'cityId_cr', 'stateId_cr', 'countryDimId_cr' ,'browserId_cr', 'adslotdimid_cr','crtd', 'itemcolumbiaid_cr', 'ispDimId_cr','devTypeDimId', 'osVerDimId_cr']])\n",
    "one_categories= one.categories_"
   ]
  },
  {
   "cell_type": "code",
   "execution_count": 44,
   "metadata": {
    "tags": [
     "outputPrepend"
    ]
   },
   "outputs": [
    {
     "output_type": "stream",
     "name": "stderr",
     "text": [
      "3-1cc0-4f02-9f6d-c61579cfa292-1sjlg',\n       '95221b62-7d0b-4190-a57c-f4d5c4a42ae6-10o78',\n       '95306d99-ce7f-4cef-9950-c3ee4203c23c-1sjio',\n       '957afc14-3312-4fae-8b00-e09cb6ee2211-1sj7k',\n       '95a620c6-2471-48d2-80c7-f747ad376579-1sjac',\n       '9641d403-4afc-46d7-a30d-1271f82c7de0-10nns',\n       '96c83352-188d-42c0-8469-9b3e6f30a0cf-10nw4',\n       '96cdacf9-cab6-4b40-ad2d-9a1b6c6904ef-1sj4s',\n       '96d28339-0681-4d50-9880-77a4fde585ec-1siz8',\n       '96e607ab-fa00-46ed-8a21-e2be985f5ca7-3qjw',\n       '9714d82d-aa2c-4803-bc38-b8639df7b2f9-3ps4',\n       '971530f0-12d5-4266-904a-153fa3bd6091-1sjio',\n       '972f16a3-079a-4353-b106-67c681139ec1-1sjd4',\n       '97468df7-0e67-4f8a-b2ce-0a29539a32a1-1sj4s',\n       '97663d42-29a0-4907-84ac-430bc03efcba-10ofk',\n       '9766edf4-442a-45be-a2d3-7f958c14d237-1sjr0',\n       '977f222a-f8d2-4cb0-9d72-55342a008783-10nnt',\n       '9798b50c-9120-43d8-b2f3-901910a72182-10nqk',\n       '979deec1-92ab-49b7-be5d-3e2a0dfe6394-1sjts',\n       '984fc8dd-8909-48da-8e5c-21f4247506bf-1sk7o',\n       '985074d9-2e3a-46a9-be86-3f9489cf45e9-1sjwk',\n       '985a8b69-9e37-4933-99f3-d0b9bb62268d-10oqo',\n       '985fa0f9-166b-4354-bf11-b11ce38981cb-62ys',\n       '98cc0f45-e720-4414-9d8b-9e700b9946fb-1sjfw',\n       '98db34bc-f0d8-4537-ac7f-02902d740f9a-10ofk',\n       '9907baef-5a49-433f-ad04-0ec2010ee678-62ys',\n       '990e49e3-d586-479a-8a3a-453faf427410-10oa0',\n       '99594b4c-43ea-4160-96ed-3fd3f8e68e16-1sj4s',\n       '997130c2-a610-4685-83f8-38f803980bc0-1slg5',\n       '99a0aad9-a9dc-482c-bfff-08dabeb2d2ec-10ni8',\n       '99b9c145-f614-403b-b871-706db30297dc-1sj7k',\n       '99e72813-cd05-458e-af45-78fa40bdcbf8-1sk24',\n       '99ed3cd2-ad9a-43d8-b0b3-f0df691fbcf0-10ntc',\n       '9a096701-7213-494e-a8a3-d741d4f30b7d-10o78',\n       '9a22885c-9d40-455c-b87a-569d5ec6c179-1sjzc',\n       '9a23f8aa-3bfd-421d-be8b-af4c03e6ff4d-1sjlg',\n       '9a3b2729-9170-4fe8-9cd6-c824fda1e72b-10nns',\n       '9a4c7a46-e011-4ee0-ac5f-86245e3dc189-1sj7k',\n       '9a52d6a1-29db-49b3-9678-4ef955455385-62t8',\n       '9a9bc7c2-77a3-44aa-aaf9-796b0ba1a7a1-3qpg',\n       '9ac88ad0-a04b-47da-921a-b0b89af199e7-1sjo8',\n       '9ad80051-74fd-494c-a83d-8662c6bcb4ce-1sjlg',\n       '9ae493c0-2474-4bdf-9801-78f5e063a051-1sjzc',\n       '9b1e2711-7f07-4f07-9745-49082adbd675-10ocs',\n       '9b8161d3-292b-4c52-8ae6-2eae03f32e57-1sjo8',\n       '9ba28310-aa90-4f85-b47d-134b29025b75-10nns',\n       '9bd22df5-501e-4504-9ab9-a895c12078dc-1sjio',\n       '9c3ab714-901c-4c26-aa64-03fbee207493-10ni8',\n       '9c7c22fb-ff6a-45a6-b6bf-00c1501453bc-10nqk',\n       '9ca8aa3e-e1d2-4929-bcf5-5639c04c8ba9-1sjo8',\n       '9cbeefdf-6819-4318-9d6b-e4f7c291d4f5-1siz8',\n       '9d1bdf89-277b-45f1-b5cd-c4a81ee15b6b-10onw',\n       '9d2a4354-31c0-4fe1-9360-7f5b6d9dc6af-1sj7k',\n       '9d56e11b-14f8-4719-941c-2d701320b470-1sjfw',\n       '9d837d46-4e89-4723-a802-781e1235e86d-1sk7o',\n       '9df334e9-9e6d-4253-bb7e-48ab9fd65ecb-10ni8',\n       '9dfad8c6-fae0-4bb5-9af5-4747f8143085-10ocs',\n       '9dfb6d52-9460-40f8-b0d4-a633ae4e5366-1sk24',\n       '9e09e07d-c411-4fd8-b611-c61d58261bed-10oqo',\n       '9e67bc9a-5e5f-43d3-ae3f-5ab3297a834c-1sjac',\n       '9e7e975c-b729-4c72-9f2a-d835bd394415-1sjlg',\n       '9e960741-52b5-4ad5-8af8-cd52a8fcc19a-10ocs',\n       '9ec8a50d-722b-474b-ae9d-6902272f4c25-10ocs',\n       '9ed73673-5155-4b9a-9c42-7df27e342d29-1sjio',\n       '9edde1f4-2197-46ff-9d77-198acd94f4a9-1sjd4',\n       '9ef7c165-4aca-4566-a2b5-254ea0f7e616-10nqk',\n       '9f433579-f5f5-491a-af16-090c40af3664-1sj4s',\n       '9f7a9cac-ab57-418d-8ca1-692ad7ef0a0e-10oqo',\n       '9fc587ea-3af4-4d11-b405-a05e20e790f5-10ol4',\n       '9fd0160e-573f-448d-a78c-d792b200afc2-1siz8',\n       '9fffc6a1-14bd-474f-bcbf-bcd34a50b10b-10nw4',\n       'a0355ddd-76a5-491f-94e0-be5f22253b25-3qpg',\n       'a056d120-1b13-4f93-9de2-56617462a19f-10ofk',\n       'a08cb0c8-f8d6-4411-8155-353140f80921-1sjfw',\n       'a098c9fd-142b-406e-8f16-69bcdc166097-10ol4',\n       'a0a38891-7edc-448d-beff-8410a0ccd36b-h0hg',\n       'a0aa3edc-c2ee-4104-bbd2-ba0ff478fb8e-10oqo',\n       'a0dadf57-a57e-4d90-b235-d13654bbbbea-10oic',\n       'a0ed86f4-d0d9-4f7f-82b1-d345a3389493-1sjfw',\n       'a1008dcb-1992-4e97-bf21-e216f26fa4cc-1sk24',\n       'a169c0d6-3aba-4836-9b2e-710ed7ab2d37-10oic',\n       'a176ecb7-027e-497f-b4bf-91bb03c91af6-1siz8',\n       'a1eb69fd-9d1b-4788-b648-75dcc3dd0b47-10onx',\n       'a28ec2b6-b425-43ab-af61-e6fa5fe1e961-62t8',\n       'a2b07047-a882-4fc1-9bf2-8c6391f3b503-1sk24',\n       'a2b5e3e4-b8cd-4a28-8458-14cd5a2ed0b0-h0k8',\n       'a2c821a1-4d91-46c8-977a-d90c8f857238-1sj20',\n       'a2d0d806-28f6-4bc7-94b2-90076ac325d0-10ni8',\n       'a2d1ebbf-c8d2-4d32-b530-e63ebdfd04d9-10oa0',\n       'a2ef10da-590b-41be-874c-66a526859cb2-1sjts',\n       'a2f065ef-dc1f-4efa-9ac9-55bb1330a1db-3ps4',\n       'a3033dde-f786-497e-ae3d-59d2935963fa-1sjfw',\n       'a36eaa8b-8609-4395-954e-6dea7c0c1752-1sjo8',\n       'a38bf1cb-91cb-4556-aa4d-e7edf51d38af-1sk7o',\n       'a3976f83-1a95-43fe-8db9-0c2139495f2f-1sjfw',\n       'a3b8161b-c647-4d53-8eb2-92fd561738f2-62qg',\n       'a408478a-28b2-4ee7-9469-723806d546ed-1siwg',\n       'a41c0bd8-5bb1-4cda-a5c1-d9d42c19c9f6-10nw4',\n       'a421869f-0f62-4a66-ac52-770fed53192f-h0k8',\n       'a42cbb3d-453c-450a-8440-abb95e5ec6a6-10nw4',\n       'a43bc4f2-cdec-4040-90c2-c9ea7969dc68-1sj4s',\n       'a43bea6e-dde0-4bad-bcc3-e587514d5dd8-1sjlg',\n       'a474de11-6904-4826-98ce-99e57045d513-1sjwk',\n       'a49845de-5d43-4656-8723-73e71db62da6-1sk24',\n       'a4fa0129-2171-467e-8894-b430b0ad32ee-h0k8',\n       'a5022130-b4d3-401a-b728-3a3fdf468ebc-3ps4',\n       'a5aa4b27-0fa0-4af7-a2b3-ca615b2b799b-1sjts',\n       'a5d04c7f-0882-421e-b102-53c71620452f-1sj20',\n       'a5daca90-5aa8-4750-a90d-94bf84c29ac6-1siwg',\n       'a5f639c7-5d05-4e32-bdc4-2d20226c4f60-3ps4',\n       'a61cacd9-410f-4e6e-be3e-2d7642a3d20c-1sj20',\n       'a6572263-5af2-448f-b95f-c88e9b17d726-1sjwk',\n       'a65c288a-b908-45ec-967e-625c5eeca226-1sjo8',\n       'a665250f-42bd-40b5-b371-aa932ef0ff02-1sj4s',\n       'a6c87d81-cbc9-44fe-88ae-094e8f8df726-3qjw',\n       'a6d7fc29-4fdb-4442-b202-18d9944eeec3-1slg4',\n       'a701e305-cde3-423d-937b-eb8d4a2a7035-10nqk',\n       'a758b64a-633c-48cb-b7f0-ac67a0def560-1slg4',\n       'a7a19be9-e5f0-48d4-9f16-4fe85d416724-3qjw',\n       'a7b7b308-3bc5-46f2-a671-12222b194f75-h0k8',\n       'a8c7bc03-a826-4f5b-aae4-9ae537ca16f5-10oqo',\n       'a8f37af5-6591-488e-8051-3373bc00d250-10oic',\n       'a909ad49-014a-43c6-a58f-e9ae43153aca-10nqk',\n       'a92e9765-d4c9-4d4c-a5fc-7cf64c97dd2c-1siwg',\n       'a9371035-94c0-49a9-b807-70e472bb31a9-1sk24',\n       'a955a5eb-1f0f-4654-8381-9f709bb98a7a-10ni8',\n       'a97061e8-4863-440a-956c-14c85984c29e-10nw4',\n       'a974732d-bfa0-4018-b216-b2d1c97f3337-1sj7k',\n       'a9794d23-4f67-4446-8c34-6fb608435f40-1siz8',\n       'a98b8a33-a3fd-48d8-88aa-18300bb228e9-10oic',\n       'aa07363a-4caa-49e9-b08f-9c145521f5af-3qpg',\n       'ac5c5cee-6d5b-41a8-b2b1-fdacb4540eee-1slg4',\n       'ae2735c7-79fd-4733-9fe4-8d3157063f81-1siz8',\n       'ae7348e9-798d-4e0c-953c-09c2980dbfb6-1sjd4',\n       'aeca1930-c4a2-48c6-939f-f1d50c465b38-1sjts',\n       'b3045275-cbca-4ab4-9ada-f0245128de20-1sjo8',\n       'b4287fe0-8b0d-4a3b-8e73-d305c4b33aca-10oic',\n       'b9818039-772b-4bfe-9d98-57f417eafc02-1sjd4',\n       'b9d89259-a6e1-4ea5-bf92-bc53b0ce7503-h0hg',\n       'bd441e4a-4a0a-4956-85bf-4d0e7648d6e7-1slg4',\n       'bfe22adb-b12b-4443-bffa-2e1e981db2b1-1siz8',\n       'c024a802-f774-4fff-a754-71580c899b77-h0hg',\n       'c03b5565-aff3-4c31-853d-d4ad948f1c4d-h0hg',\n       'c0be9cf4-2c80-495b-93a9-a1b046b0892d-1slg5',\n       'c2758646-244d-4bd8-b674-104ab1ceab8c-10oic',\n       'c49d235e-2455-4089-9cae-68871535f4ca-631k',\n       'c79d6cb4-b9b9-45de-be8c-d59d82d85975-10oqo',\n       'c7d6019c-50dc-4292-b15c-f9bc2aa3bfdd-1sj4s',\n       'c90b4f31-73ba-43e8-8c05-83b1fef7f71c-1sjzc',\n       'cbbc911a-51cd-4b6f-aaa9-4c47088a8bf6-1sjr0',\n       'cd234977-6bec-4d47-b492-f9ce1fec78cd-1sj7k',\n       'cfc4d62b-917d-460c-9f67-c48aaa937673-1sj20',\n       'cfc7db51-40fc-4919-ae23-0f69da215872-3qjw',\n       'cfca5e7e-6430-4dd1-85bc-c0c7adaa58b4-62ys',\n       'd5f4a326-8415-48be-ba17-27897ee5b00b-10oqo',\n       'd68656c2-3806-4cac-8211-586543512ce5-1slg5',\n       'd95d900b-f978-4782-9f00-1db27cab3e9a-10nqk',\n       'db542a70-39f0-4a37-b951-b1a27fb37e11-10ocs',\n       'dcc7e116-5f3b-441a-835c-f9c17b49b5d1-10nw4',\n       'dd692100-fa1f-4ec6-a0b8-4feb03b17a60-10o78',\n       'dd74d044-f849-4838-bcdc-7bd598057e29-1sjts',\n       'de6657a0-0a0f-4f2a-9a2e-3eebf1d49f45-1sito',\n       'e01ff28a-5585-425a-87a9-8a9d569c8fbd-h0k8',\n       'e036af81-ad8f-42d7-a50e-c219b94936a5-1sjd4',\n       'e0d76439-f7ee-4c5d-88a4-a1bc35bce624-h0hg',\n       'e2fec060-1a93-46e9-912f-7d00e7e5cc36-10ntc',\n       'e3be61f2-64e8-43d7-ae09-7f5fcd0a362b-10nns',\n       'e4b97188-0bb4-47c4-89e8-d100baffb6c9-1sjd4',\n       'e5e142cb-d049-4b77-91b4-81bdfeee39c6-1sjac',\n       'e67404dd-bb55-48df-9d12-cf8a96b1a748-1sjlg',\n       'e9582b16-025b-4164-8c35-e5403f0f4ea5-1sk7o',\n       'eb3afd75-ac64-4fe0-b533-b2d6b72d9e24-10nns',\n       'ed00144e-66e2-49b4-8e50-87120e64d6f3-1sjfw',\n       'ed5cd158-06f0-4b8c-a3ae-dbd045841766-10ocs',\n       'ede56df4-960a-4d8d-87f2-9deb51b80b58-1siz8',\n       'efcb38d7-570f-4f12-9a95-1f60f7894a29-10oa0',\n       'f37368a8-1713-4b2a-8176-0db56ce5325d-10oa0',\n       'f48ac3c7-4edf-478b-9233-96e82687a55f-h0hg',\n       'f4d028ac-67fb-42a4-b657-1773da6515ba-1siz8',\n       'f656acb7-8d86-4695-9ffe-0d3da73517b8-10ol4',\n       'f6885674-956c-485d-8009-68c10b1e39e4-10ocs',\n       'f6a9c4e0-8c85-49ce-af8d-d0c6b7288da2-h0hg',\n       'f84d83b9-b757-4f97-9813-34f8dcc57cc5-1sjfw'], dtype=object), array([   3,    4,   15,   16,   17,   19,   26,   27,   34,   39,   49,\n         66,   74,   76,   85,   87,  178,  179,  187,  204,  205,  214,\n        220,  245,  283,  379,  432,  494,  495,  535,  549,  568,  621,\n        667,  767,  825, 1028, 1034, 1043, 1057, 1135, 1214, 1215, 1217,\n       1219, 1707, 2116, 2117, 2174, 2481, 2558, 2585, 2602, 2604, 2607,\n       2608, 2609, 2612, 2627, 2643, 2714, 2721, 2901, 2906, 2923, 2925,\n       2930, 2958, 3118, 3128, 3129, 3130, 3149, 3192, 3290, 3291, 3296]), array([10]), array([     0.        ,    435.        ,    436.        ,    437.        ,\n          438.        ,    439.        ,    440.        ,   2942.        ,\n         4829.        ,   4845.        ,   8738.63450292,   9376.        ,\n        10231.        ,  10232.        ,  10233.        ,  10234.        ,\n        10235.        ,  10238.        ,  10239.        ,  10240.        ,\n        10243.        ,  10250.        ,  10251.        ,  10254.        ,\n        10255.        ,  10256.        ,  10257.        ,  10261.        ,\n        10262.        ,  10263.        ,  10267.        ,  10269.        ,\n        10276.        ,  10278.        ,  10279.        ,  10282.        ,\n        10284.        ,  10285.        ,  10286.        ,  10287.        ,\n        10289.        ,  10290.        ,  10291.        ,  10292.        ,\n        10295.        ,  10300.        ,  10302.        ,  10308.        ,\n        10309.        ,  10310.        ,  10313.        ,  10314.        ,\n        10315.        ,  10316.        ,  16713.        ,  17741.        ,\n        17805.        ,  34679.        ,  34681.        ,  34685.        ,\n        34688.        ,  34698.        ,  34699.        ,  34702.        ,\n        34703.        ,  34705.        ,  34708.        ,  34714.        ,\n        34719.        ,  34720.        ,  34724.        ,  34725.        ,\n        34726.        ,  34727.        ,  34728.        ,  34755.        ,\n       208114.        , 208118.        , 322888.        , 322890.        ,\n       322893.        , 333484.        , 347087.        ]), array([     0.        ,   1434.        ,   1504.        ,   1799.        ,\n         1800.        ,   1801.        ,   1802.        ,   1803.        ,\n         1804.        ,   1805.        ,   1806.        ,   1807.        ,\n         1808.        ,   1809.        ,   1810.        ,   1811.        ,\n         1812.        ,   1814.        ,   1815.        ,   1816.        ,\n         1817.        ,   1818.        ,   2401.        ,   2406.        ,\n         2407.        ,   2419.        ,   2420.        ,   2424.        ,\n         2428.        ,   2431.        ,   2432.        ,   2437.        ,\n         2440.        ,   2442.        ,   2518.        ,   2570.        ,\n         2571.        ,   2572.        ,   2576.        ,   2577.        ,\n         2578.        ,   2580.        ,   2929.        ,  12498.90350877,\n       129163.        , 341146.        ]), array([144.        , 145.        , 147.18128655, 149.        ,\n       406.        , 423.        , 425.        , 426.        ,\n       433.        , 434.        ]), array([     0.        , 119433.87609756, 129408.        , 129433.        ,\n       129467.        , 129473.        , 129639.        , 129641.        ,\n       129771.        , 196030.        , 196034.        ]), array([129117, 129186, 129235, 129237, 129239, 129241, 129784, 129838,\n       129899, 130014, 130098, 195755, 206639, 207018, 207067, 207070,\n       207114, 207168, 207248, 207251, 207253, 207929, 207972, 208063,\n       208447, 208630, 209035, 209126, 209133, 210765, 210786, 210792,\n       210793, 211156, 215441, 215442, 215714, 219845, 231960, 233531,\n       236059, 239188, 254786, 254793, 259298, 259397, 264405, 264408,\n       264409, 264411, 264415, 264438, 305506, 308707, 311072, 315157,\n       316898, 317403, 317616, 318648, 319007, 319522, 319523, 320270,\n       320281, 320283, 320284, 321096, 321109, 321114, 321300, 321410,\n       321516, 321523, 321533, 321553, 321554, 322157, 322158, 322202,\n       322211, 322217, 322222, 322223, 322224, 322225, 322231, 322232,\n       322233, 323095, 323098, 323101, 323122, 323134, 323273, 323277,\n       323642, 323644, 323661, 324097, 324102, 325770, 325776, 326269,\n       326424, 326428, 326536, 326573, 326703, 327028, 327032, 328058,\n       328659, 332026, 332771, 332775, 332777, 332780, 332783, 333256,\n       334758, 334759, 334760, 334761, 334762, 334764, 334766, 334785,\n       335062, 336007, 336427, 336428, 336477, 336665, 336796, 336962,\n       337639, 337640, 337641, 337642, 337643, 337645, 337792, 337845,\n       339646, 339647, 339648, 339657, 341148, 341149, 341352, 341354,\n       341360, 341816, 341817, 342284, 342359, 346465, 347799, 348089,\n       348091, 348201, 348268, 348273, 348322, 348323, 348324, 349010,\n       349163, 350086, 351350, 351351, 351842, 351985, 353785, 355148,\n       355670, 355672, 355688, 355689, 355768, 355900, 355902, 355913,\n       355914, 355918, 356243, 356312, 356314, 356326, 356952, 357097,\n       357531, 357824, 357826, 360638]), array([1.62e+12]), array([3238328, 5477308, 5479156, 5488088, 5488773, 5491581, 5491597,\n       5502462, 5505846, 5508016, 5526656, 5528609, 5528616, 5528619,\n       5535952, 5538353, 5538356, 5538361, 5538362, 5539966, 5541274,\n       5544928, 5551816, 5562842, 5570706, 5576813, 5576816, 5577074,\n       5578287, 5580567, 5581765, 5581777, 5582684, 5583264, 5584022,\n       5584043, 5585191, 5585232, 5585558, 5587578, 5588029, 5588206,\n       5588428, 5588470, 5589357, 5589394, 5590697, 5592294, 5592344,\n       5596692, 5597863, 5598212, 5598213, 5598349, 5598378, 5598768,\n       5599022, 5599100, 5599101, 5599296, 5601459, 5601460, 5601889,\n       5602209, 5602423, 5603244, 5603245, 5603438, 5603772, 5609940,\n       5609947, 5609973, 5610342, 5610343, 5610363, 5610373, 5610374,\n       5610562, 5610566, 5610567, 5610572, 5610727, 5610730, 5611920,\n       5611950, 5612311, 5612548, 5612571, 5612591, 5614054, 5614076,\n       5614133, 5614151, 5614154, 5614171, 5614336, 5614401, 5614402,\n       5614456, 5614580, 5614609, 5614727, 5614737, 5614752, 5614775,\n       5614959, 5614974, 5615024, 5615296, 5615330, 5615401, 5615446,\n       5615451, 5615600, 5615623, 5616666, 5616679, 5617838, 5617857,\n       5617859, 5617942, 5617951, 5617958, 5618615, 5618618, 5618646,\n       5618649, 5618674, 5620623, 5620639]), array([     0.        , 131411.        , 132991.        , 133191.        ,\n       133765.        , 134237.        , 134335.        , 135885.        ,\n       136127.        , 136528.        , 139145.        , 139766.        ,\n       140092.        , 143124.        , 143147.        , 143792.        ,\n       145456.        , 146142.        , 146364.        , 146453.        ,\n       147211.        , 147570.        , 147958.        , 148496.        ,\n       148498.        , 149033.        , 149244.        , 149453.        ,\n       149468.        , 149741.        , 150208.        , 150210.        ,\n       150230.        , 150733.        , 151402.        , 151405.        ,\n       151530.        , 151879.        , 152418.        , 153317.        ,\n       154900.        , 155404.        , 156123.        , 156196.        ,\n       157825.        , 158270.        , 159142.        , 161223.        ,\n       162352.        , 162894.        , 163485.        , 164044.        ,\n       164681.        , 165128.        , 165550.        , 165658.        ,\n       165748.        , 166358.        , 168516.        , 170061.        ,\n       170424.        , 170706.        , 171002.        , 172542.        ,\n       172725.        , 177151.        , 177383.        , 177700.        ,\n       178143.        , 178145.        , 180303.        , 180305.        ,\n       180916.        , 180931.        , 180932.        , 180933.        ,\n       183263.        , 183395.        , 184911.        , 185265.        ,\n       186936.        , 187580.        , 187725.        , 187798.        ,\n       189393.        , 189415.        , 189497.        , 190004.        ,\n       190212.        , 210723.18421053, 264684.        , 265203.        ,\n       265493.        , 265611.        , 265618.        , 266031.        ,\n       266257.        , 266271.        , 266737.        , 266738.        ,\n       266906.        , 266913.        , 267285.        , 267504.        ,\n       268021.        , 268261.        , 268269.        , 268643.        ,\n       269342.        , 269937.        , 270282.        , 272343.        ,\n       273302.        , 273568.        , 274729.        , 276494.        ,\n       277221.        , 277934.        , 278926.        , 278940.        ,\n       280043.        , 280429.        , 280693.        , 281560.        ,\n       281618.        , 281745.        , 281885.        , 281987.        ,\n       282203.        , 282315.        , 282855.        , 282895.        ,\n       284796.        , 285107.        , 285749.        , 285819.        ,\n       286194.        ]), array([     0.        , 192191.34819277, 196041.        , 196047.        ,\n       196073.        , 196169.        , 196180.        , 196182.        ,\n       196376.        , 196460.        , 196469.        , 196472.        ,\n       200709.        , 200866.        , 202038.        , 202149.        ,\n       203140.        , 203206.        , 204038.        , 204084.        ,\n       204405.        , 205209.        , 205409.        , 205751.        ,\n       205776.        , 228546.        , 230191.        , 264494.        ,\n       264496.        ]), array([     0.        , 199414.        , 199452.        , 199505.        ,\n       199522.        , 199586.        , 199625.        , 206064.        ,\n       206070.        , 206071.        , 220538.58829268, 359528.        ,\n       359919.        , 359921.        , 360138.        , 360140.        ,\n       360143.        , 360145.        , 360147.        , 360155.        ,\n       360234.        , 360751.        , 360765.        , 360788.        ,\n       360831.        , 360833.        , 360849.        , 360956.        ,\n       361287.        , 361301.        , 361320.        , 361329.        ,\n       361447.        ])] as keyword args. From version 1.0 (renaming of 0.25) passing these as positional arguments will result in an error\n  warnings.warn(f\"Pass {args_msg} as keyword args. From version \"\n"
     ]
    }
   ],
   "source": [
    "column_trans = make_column_transformer((OneHotEncoder(one_categories, sparse=True, handle_unknown='ignore'), (['clientid_cr', 'pubclientid_cr', 'clickIp', 'clmbuserid_cr', 'imprid_cr', 'siteId_cr', 'goalTypeId_cr', 'cityId_cr', 'stateId_cr', 'countryDimId_cr' ,'browserId_cr', 'adslotdimid_cr','crtd', 'itemcolumbiaid_cr', 'ispDimId_cr','devTypeDimId', 'osVerDimId_cr' ])), remainder=\"passthrough\")"
   ]
  },
  {
   "cell_type": "code",
   "execution_count": 56,
   "metadata": {},
   "outputs": [
    {
     "output_type": "execute_result",
     "data": {
      "text/plain": [
       "Pipeline(steps=[('columntransformer',\n",
       "                 ColumnTransformer(remainder='passthrough',\n",
       "                                   transformers=[('onehotencoder',\n",
       "                                                  OneHotEncoder(categories=[array([  802,  1465,  1518,  2060,  2139,  2380,  3180,  7063,  7750,\n",
       "        8895, 11451, 12510, 16664, 17232, 24075, 25470, 26329, 28602,\n",
       "       29892, 30431, 31365, 32847, 35702, 43051, 43386, 51483, 64588,\n",
       "       64731, 66066, 66839, 67368, 67615, 69398, 70491, 70668, 70900,\n",
       "       75...\n",
       "       360831.        , 360833.        , 360849.        , 360956.        ,\n",
       "       361287.        , 361301.        , 361320.        , 361329.        ,\n",
       "       361447.        ])],\n",
       "                                                                handle_unknown='ignore'),\n",
       "                                                  ['clientid_cr',\n",
       "                                                   'pubclientid_cr', 'clickIp',\n",
       "                                                   'clmbuserid_cr', 'imprid_cr',\n",
       "                                                   'siteId_cr', 'goalTypeId_cr',\n",
       "                                                   'cityId_cr', 'stateId_cr',\n",
       "                                                   'countryDimId_cr',\n",
       "                                                   'browserId_cr',\n",
       "                                                   'adslotdimid_cr', 'crtd',\n",
       "                                                   'itemcolumbiaid_cr',\n",
       "                                                   'ispDimId_cr',\n",
       "                                                   'devTypeDimId',\n",
       "                                                   'osVerDimId_cr'])])),\n",
       "                ('svc', SVC(kernel='linear'))])"
      ]
     },
     "metadata": {},
     "execution_count": 56
    }
   ],
   "source": [
    "#Building Model \n",
    "clf =svm.SVC(kernel='linear')\n",
    "pipe=make_pipeline(column_trans, clf)\n",
    "pipe.fit(X_train, Y_train)"
   ]
  },
  {
   "cell_type": "code",
   "execution_count": 57,
   "metadata": {},
   "outputs": [],
   "source": [
    "y_pred = pipe.predict(X_test)"
   ]
  },
  {
   "cell_type": "code",
   "execution_count": 58,
   "metadata": {},
   "outputs": [
    {
     "output_type": "stream",
     "name": "stdout",
     "text": [
      "Accuracy: (0.9810)\n"
     ]
    }
   ],
   "source": [
    "#Accuracy_score is used to measure the accuracy score\n",
    "from sklearn import metrics\n",
    "print(\"Accuracy: ({0:.4f})\".format(metrics.accuracy_score(Y_test, y_pred)))"
   ]
  },
  {
   "cell_type": "code",
   "execution_count": 59,
   "metadata": {},
   "outputs": [
    {
     "output_type": "stream",
     "name": "stdout",
     "text": [
      "[ True False False  True  True False  True False False False False False\n False False False False False False False False False False False False\n  True False False False False False False  True False False False False\n  True False False False False False False False False  True False  True\n False False False False False False False  True False False  True False\n False  True False False False False False False  True False  True False\n False False False False False False False False False False False False\n False False False False False False  True  True False False False False\n False  True False False False  True  True  True False False False False\n  True False  True False False False False False  True False  True False\n False False  True False False False False  True False False False False\n  True False False  True False False False False  True False  True False\n False  True False False False  True False False False False  True False\n False False False False False False False False False False False False\n False False False False False False  True  True  True False False False\n False False False False False False False  True False False False False\n False False False False False False False False False False False False\n False False False False  True  True]\n"
     ]
    }
   ],
   "source": [
    "print(y_pred)"
   ]
  },
  {
   "cell_type": "code",
   "execution_count": 60,
   "metadata": {},
   "outputs": [
    {
     "output_type": "execute_result",
     "data": {
      "text/plain": [
       "array([[167,   0],\n",
       "       [  4,  39]])"
      ]
     },
     "metadata": {},
     "execution_count": 60
    }
   ],
   "source": [
    "metrics.confusion_matrix(Y_test, y_pred)"
   ]
  },
  {
   "cell_type": "code",
   "execution_count": 61,
   "metadata": {},
   "outputs": [
    {
     "output_type": "execute_result",
     "data": {
      "text/plain": [
       "False    167\n",
       "True      43\n",
       "Name: conversion_fraud, dtype: int64"
      ]
     },
     "metadata": {},
     "execution_count": 61
    }
   ],
   "source": [
    "Y_test.value_counts()"
   ]
  },
  {
   "cell_type": "code",
   "execution_count": 62,
   "metadata": {},
   "outputs": [],
   "source": [
    "# data_merge2.drop('record_id', axis=1, inplace=True)\n",
    "# data_merge2['imprId']\n",
    "output= pipe.predict(data_merge2)"
   ]
  },
  {
   "cell_type": "code",
   "execution_count": 63,
   "metadata": {},
   "outputs": [
    {
     "output_type": "execute_result",
     "data": {
      "text/plain": [
       "array([ True,  True,  True,  True,  True, False,  True,  True, False,\n",
       "        True, False, False, False, False, False, False, False, False,\n",
       "       False, False, False, False, False, False, False, False, False,\n",
       "       False,  True,  True,  True,  True, False,  True,  True,  True,\n",
       "       False, False, False, False,  True, False,  True, False, False,\n",
       "       False, False, False, False, False, False, False, False, False,\n",
       "       False, False, False, False, False, False, False, False, False,\n",
       "       False, False, False, False, False, False, False, False, False,\n",
       "       False, False, False, False, False, False, False, False, False,\n",
       "       False, False, False, False, False, False, False, False, False,\n",
       "       False, False, False, False, False, False, False, False, False,\n",
       "       False, False, False, False, False, False, False, False, False,\n",
       "       False, False, False, False, False, False, False, False, False,\n",
       "       False, False, False,  True, False, False, False, False, False,\n",
       "        True, False, False, False, False, False, False, False, False,\n",
       "       False, False, False, False, False, False, False,  True, False,\n",
       "       False, False, False, False, False, False, False, False, False,\n",
       "       False, False, False, False, False, False, False, False, False,\n",
       "       False, False, False, False, False, False, False, False, False,\n",
       "       False, False, False, False, False, False, False, False, False,\n",
       "       False, False, False, False, False, False, False, False, False,\n",
       "       False, False, False, False, False, False, False, False, False,\n",
       "       False, False, False, False, False, False, False, False, False,\n",
       "       False,  True, False,  True, False, False, False, False, False,\n",
       "       False, False, False, False, False, False, False, False, False,\n",
       "       False, False, False,  True, False,  True, False, False, False,\n",
       "       False, False, False, False, False, False, False, False, False,\n",
       "       False, False, False, False, False, False, False, False, False,\n",
       "       False, False, False, False, False, False, False,  True, False,\n",
       "       False, False,  True, False, False, False, False, False, False,\n",
       "       False, False, False, False, False, False,  True, False, False,\n",
       "       False, False, False, False, False, False, False, False, False,\n",
       "       False, False, False, False, False, False, False, False, False,\n",
       "       False, False, False, False, False, False, False, False, False,\n",
       "       False, False, False, False, False, False, False, False, False,\n",
       "       False, False, False, False, False, False, False, False, False,\n",
       "       False, False, False, False, False, False, False, False, False,\n",
       "       False, False, False, False,  True, False, False, False, False,\n",
       "       False, False, False, False,  True, False, False, False, False,\n",
       "       False, False, False, False, False, False, False, False, False,\n",
       "       False, False, False, False, False, False, False, False, False,\n",
       "       False, False, False, False, False, False, False, False, False,\n",
       "       False, False, False, False, False, False, False, False, False,\n",
       "       False, False, False, False, False, False,  True, False, False,\n",
       "       False, False, False, False, False, False, False, False, False,\n",
       "       False, False, False, False, False, False, False, False, False,\n",
       "       False, False,  True, False, False, False, False, False, False,\n",
       "       False, False, False, False, False, False, False,  True, False,\n",
       "       False, False,  True, False, False, False, False, False, False,\n",
       "       False, False, False, False, False, False, False, False, False,\n",
       "       False, False, False, False, False])"
      ]
     },
     "metadata": {},
     "execution_count": 63
    }
   ],
   "source": [
    "output"
   ]
  },
  {
   "cell_type": "code",
   "execution_count": 64,
   "metadata": {},
   "outputs": [],
   "source": [
    "data_final= {'record_id': Records, \n",
    "             'conversion_fraud': output}\n",
    "\n",
    "df = pd.DataFrame(data_final)\n",
    "  \n",
    "# saving the dataframe\n",
    "df.to_csv('submission_file.csv', index=False)            "
   ]
  },
  {
   "cell_type": "code",
   "execution_count": null,
   "metadata": {},
   "outputs": [],
   "source": []
  },
  {
   "cell_type": "code",
   "execution_count": null,
   "metadata": {},
   "outputs": [],
   "source": []
  }
 ]
}